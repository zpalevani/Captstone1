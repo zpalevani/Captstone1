{
  "nbformat": 4,
  "nbformat_minor": 0,
  "metadata": {
    "colab": {
      "provenance": [],
      "authorship_tag": "ABX9TyNYtK8z4ZImsgDw9sva86RY",
      "include_colab_link": true
    },
    "kernelspec": {
      "name": "python3",
      "display_name": "Python 3"
    },
    "language_info": {
      "name": "python"
    }
  },
  "cells": [
    {
      "cell_type": "markdown",
      "metadata": {
        "id": "view-in-github",
        "colab_type": "text"
      },
      "source": [
        "<a href=\"https://colab.research.google.com/github/zpalevani/Captstone1/blob/main/Capstone_One_Energy_Efficiency.ipynb\" target=\"_parent\"><img src=\"https://colab.research.google.com/assets/colab-badge.svg\" alt=\"Open In Colab\"/></a>"
      ]
    },
    {
      "cell_type": "markdown",
      "source": [
        "## **Objective**\n",
        "\n",
        "The goal of this project is to analyze the energy efficiency of buildings and figure out which design features affect heating and cooling energy use the most. By calculating the Energy Efficiency Ratio (EER) and looking at how different features like Wall_Area, Roof_Area, and Relative_Compactness impact energy loads, I aim to uncover insights that can help improve building designs to be more energy-efficient.\n",
        "\n",
        "\n",
        "**Business Questions**\n",
        "\n",
        "1. Which building features have the biggest impact on heating and cooling energy demand?\n",
        " *  For example, does Wall_Area or Roof_Area make a bigger difference?\n",
        "\n",
        "2. How does building compactness (Relative_Compactness) affect energy efficiency?\n",
        " *  Can compact buildings be more efficient in terms of energy use?\n",
        "\n",
        "3. How can the Energy Efficiency Ratio (EER) help compare and rank buildings?\n",
        " *  Which buildings are the most efficient, and what features make them that way?"
      ],
      "metadata": {
        "id": "zqoMLNljUu9t"
      }
    },
    {
      "cell_type": "markdown",
      "source": [
        "*  Data Source: [Link](https://archive.ics.uci.edu/dataset/242/energy+efficiency)\n",
        "\n",
        "*  Citation: Tsanas, A. & Xifara, A. (2012). Energy Efficiency [Dataset]. UCI Machine Learning Repository. https://doi.org/10.24432/C51307.\n",
        "\n",
        "*  Additional Reading: [How AI is making buildings more energy efficient](https://time.com/7201501/ai-buildings-energy-efficiency/)"
      ],
      "metadata": {
        "id": "3WZDPkvgNtNy"
      }
    },
    {
      "cell_type": "markdown",
      "source": [
        "## **Environment Preparation**"
      ],
      "metadata": {
        "id": "MOZqEOY5RMua"
      }
    },
    {
      "cell_type": "code",
      "source": [
        "# Load the libraries\n",
        "\n",
        "import pandas as pd\n",
        "import numpy as np\n",
        "import matplotlib.pyplot as plt\n",
        "import seaborn as sns"
      ],
      "metadata": {
        "id": "8Sd9ML7VBtOd"
      },
      "execution_count": null,
      "outputs": []
    },
    {
      "cell_type": "code",
      "source": [
        "# Load the dataset\n",
        "\n",
        "url = \"/content/ENB2012_data.xlsx\"\n",
        "data = pd.read_excel(url)"
      ],
      "metadata": {
        "id": "P-jNAU8JBzeh"
      },
      "execution_count": null,
      "outputs": []
    },
    {
      "cell_type": "markdown",
      "source": [
        "## **Initial Data Exploration**"
      ],
      "metadata": {
        "id": "GacS7CoJRWt6"
      }
    },
    {
      "cell_type": "code",
      "source": [
        "# Explore the dataset\n",
        "print(\"First 5 rows of the dataset:\")\n",
        "print(data.head())"
      ],
      "metadata": {
        "id": "tSQYAMjkB6lj"
      },
      "execution_count": null,
      "outputs": []
    },
    {
      "cell_type": "code",
      "source": [
        "# Rename columns for simplicity\n",
        "data.columns = ['Relative_Compactness', 'Surface_Area', 'Wall_Area', 'Roof_Area',\n",
        "                'Overall_Height', 'Orientation', 'Glazing_Area', 'Glazing_Distribution',\n",
        "                'Heating_Load', 'Cooling_Load']\n"
      ],
      "metadata": {
        "id": "4Us1vRlDB_jZ"
      },
      "execution_count": null,
      "outputs": []
    },
    {
      "cell_type": "code",
      "source": [
        "# Repeated with new column names: Explore the dataset\n",
        "print(\"First 5 rows of the dataset:\")\n",
        "print(data.head())"
      ],
      "metadata": {
        "id": "KxPkWFWaDk7p"
      },
      "execution_count": null,
      "outputs": []
    },
    {
      "cell_type": "markdown",
      "source": [
        "*Before furtehr progress in the analysis I'd like to familiarize myself with the data features.*\n",
        "\n",
        "**Key Features of the Building Dataset**\n",
        "\n",
        "**Wall Area:**\n",
        "\n",
        "*  The total surface area of all the walls in the building.\n",
        "\n",
        "\n",
        "**Roof Area:**\n",
        "\n",
        "*  The surface area of the roof (top of the building).\n",
        "\n",
        "**Surface Area:**\n",
        "\n",
        "*  This is the total outer area of the building (walls + roof + base).\n",
        "\n",
        "**Overall Height:**\n",
        "\n",
        "*  The vertical height of the building from the ground to the top.\n",
        "\n",
        "**Relative Compactness:**\n",
        "\n",
        "*  Describes how compact the shape of the building is.\n",
        "Compact buildings use less energy because they lose less heat compared to irregularly shaped ones.\n",
        "\n",
        "**Glazing Area:**\n",
        "\n",
        "*  The total surface area of windows (glass) in the building.\n",
        "\n",
        "**Glazing Distribution:**\n",
        "\n",
        "*  Indicates how the windows (glass areas) are spread around the building (e.g., evenly distributed or concentrated on one side).\n",
        "\n",
        "**Orientation:**\n",
        "\n",
        "*  Refers to the direction the building faces (e.g., north, south, etc.).\n",
        "This can affect sunlight exposure and energy efficiency."
      ],
      "metadata": {
        "id": "bAfINFrMD7IQ"
      }
    },
    {
      "cell_type": "markdown",
      "source": [
        "With above on mind, I looked at the above table again.\n",
        "\n",
        "**Dataset Preview**\n",
        "\n",
        "The first five rows of the dataset show the structure:\n",
        "\n",
        "*  Key features include Relative_Compactness, Wall_Area, Roof_Area, and Overall_Height.\n",
        "*  The target variables are Heating_Load and Cooling_Load, representing energy consumption for heating and cooling.\n",
        "\n",
        "Example:\n",
        "\n",
        "*  Row 0 has a Relative_Compactness of 0.98 and a Heating_Load of 15.55, with corresponding values for other features."
      ],
      "metadata": {
        "id": "CFTkP01kFQCC"
      }
    },
    {
      "cell_type": "markdown",
      "source": [
        "## **Data Cleaning and Preparation**"
      ],
      "metadata": {
        "id": "KE6qHnQVQej1"
      }
    },
    {
      "cell_type": "code",
      "source": [
        "# Check for missing values\n",
        "missing_values = data.isnull().sum()\n",
        "print(\"Missing values in each column:\")\n",
        "print(missing_values)\n"
      ],
      "metadata": {
        "id": "rtpociLNOW5m"
      },
      "execution_count": null,
      "outputs": []
    },
    {
      "cell_type": "markdown",
      "source": [
        "No missing values exist in the dataset."
      ],
      "metadata": {
        "id": "jA3U6tbsPFQK"
      }
    },
    {
      "cell_type": "code",
      "source": [
        "# Check for duplicate rows\n",
        "duplicates = data.duplicated().sum()\n",
        "print(f\"Number of duplicate rows: {duplicates}\")\n",
        "\n",
        "# Drop duplicate rows\n",
        "data.drop_duplicates(inplace=True)\n"
      ],
      "metadata": {
        "id": "QI1aF8WlOfSt"
      },
      "execution_count": null,
      "outputs": []
    },
    {
      "cell_type": "markdown",
      "source": [
        "No duplicates exist in the dataset."
      ],
      "metadata": {
        "id": "e7t0K0mSPJhr"
      }
    },
    {
      "cell_type": "code",
      "source": [
        "# Check data types\n",
        "print(\"Data types of each column:\")\n",
        "print(data.dtypes)\n",
        "\n",
        "# Convert columns to numeric if needed\n",
        "# Example: data['Wall_Area'] = pd.to_numeric(data['Wall_Area'], errors='coerce')\n"
      ],
      "metadata": {
        "id": "6dZw2C1AOiL7"
      },
      "execution_count": null,
      "outputs": []
    },
    {
      "cell_type": "markdown",
      "source": [
        "All columns have the right data type.\n",
        "*  float for numerical columns such as heating_load, cooling_load and wall_area\n",
        "*  int for categorial columns such as orientation and glazing_distribution"
      ],
      "metadata": {
        "id": "VZRaM5k2POij"
      }
    },
    {
      "cell_type": "code",
      "source": [
        "# Identify outliers using boxplot\n",
        "import matplotlib.pyplot as plt\n",
        "\n",
        "data[['Heating_Load', 'Cooling_Load']].boxplot()\n",
        "plt.title(\"Boxplot for Heating and Cooling Loads\")\n",
        "plt.show()\n"
      ],
      "metadata": {
        "id": "8Twycqy0OlcW"
      },
      "execution_count": null,
      "outputs": []
    },
    {
      "cell_type": "markdown",
      "source": [
        "The boxplot above shows potential outliers\n",
        "*   both loads show extreme values near their max, especially for higher energy demand\n",
        "*   these might represent buildings with very specific designs or inefficiencies\n",
        "\n",
        "The boxplot might only visually suggest that some data points are farther from the majority of the data, appearing to be outliers.\n",
        "\n",
        "However, this can also be a visual impression and not confirmed through statistical methods. To decide whetehr to keep or remove the outlier, I firt need to confirm the status of the outlier. For this purpose, I choose the IQR calculation."
      ],
      "metadata": {
        "id": "MBwLgWrfPlrY"
      }
    },
    {
      "cell_type": "markdown",
      "source": [
        "While I am going to use the IQR method, I have the following options on mind:\n",
        "\n",
        "**Possible Strategies to Handle the Outliers**\n",
        "\n",
        "*   **Remove Outliers:**\n",
        "Using this option if outliers are errors or not representative of the population (e.g., extreme energy loads due to faulty design). After removing, data_no_outliers will be in the cleaned dataset.\n",
        "\n",
        "*   **Cap Outliers:**\n",
        "Using this if the outliers are valid but extreme values could skew results. Replacing them with the nearest bound (e.g., 5th/95th percentile) makes the data more stable.\n",
        "\n",
        "*   **Keep Outliers:**\n",
        "If outliers represent meaningful cases (e.g., unique building designs causing extreme energy usage), I can keep them for deeper analysis.\n",
        "\n",
        "My goal is to leverage the IQR method to decide what to eventually do with the outlier data."
      ],
      "metadata": {
        "id": "u75pLtJ7DIiz"
      }
    },
    {
      "cell_type": "code",
      "source": [
        "# Load the re-uploaded dataset\n",
        "file_path = '/content/ENB2012_data.xlsx'\n",
        "data = pd.read_excel(file_path)\n",
        "\n",
        "# Rename columns to match previous usage\n",
        "data.columns = ['Relative_Compactness', 'Surface_Area', 'Wall_Area', 'Roof_Area',\n",
        "                'Overall_Height', 'Orientation', 'Glazing_Area', 'Glazing_Distribution',\n",
        "                'Heating_Load', 'Cooling_Load']\n",
        "\n",
        "# Step 1: Detect Outliers using IQR for Heating_Load and Cooling_Load\n",
        "Q1 = data[['Heating_Load', 'Cooling_Load']].quantile(0.25)\n",
        "Q3 = data[['Heating_Load', 'Cooling_Load']].quantile(0.75)\n",
        "IQR = Q3 - Q1\n",
        "\n",
        "\n",
        "# Calculate bounds\n",
        "lower_bound = Q1 - 1.5 * IQR\n",
        "upper_bound = Q3 + 1.5 * IQR\n",
        "\n",
        "# Identify outliers\n",
        "outliers = ((data[['Heating_Load', 'Cooling_Load']] < lower_bound) |\n",
        "            (data[['Heating_Load', 'Cooling_Load']] > upper_bound))\n",
        "\n",
        "# Count the outliers\n",
        "outlier_counts = outliers.sum()\n",
        "\n",
        "# Step 2: Remove Outliers\n",
        "data_no_outliers = data[\n",
        "    (data['Heating_Load'] >= lower_bound['Heating_Load']) &\n",
        "    (data['Heating_Load'] <= upper_bound['Heating_Load']) &\n",
        "    (data['Cooling_Load'] >= lower_bound['Cooling_Load']) &\n",
        "    (data['Cooling_Load'] <= upper_bound['Cooling_Load'])\n",
        "]\n",
        "\n",
        "# Step 3: Cap Outliers\n",
        "data_capped = data.copy()\n",
        "data_capped['Heating_Load'] = data_capped['Heating_Load'].clip(lower=lower_bound['Heating_Load'],\n",
        "                                                               upper=upper_bound['Heating_Load'])\n",
        "data_capped['Cooling_Load'] = data_capped['Cooling_Load'].clip(lower=lower_bound['Cooling_Load'],\n",
        "                                                               upper=upper_bound['Cooling_Load'])\n",
        "\n",
        "# Summary statistics for the original, cleaned, and capped datasets\n",
        "original_stats = data[['Heating_Load', 'Cooling_Load']].describe()\n",
        "no_outliers_stats = data_no_outliers[['Heating_Load', 'Cooling_Load']].describe()\n",
        "capped_stats = data_capped[['Heating_Load', 'Cooling_Load']].describe()\n",
        "\n",
        "(outlier_counts, len(data), len(data_no_outliers), original_stats, no_outliers_stats, capped_stats)"
      ],
      "metadata": {
        "id": "uiO7o7cM_G6m"
      },
      "execution_count": null,
      "outputs": []
    },
    {
      "cell_type": "markdown",
      "source": [
        "**Summary of Outlier Analysis**\n",
        "\n",
        "Outliers Detected:\n",
        "Based on the IQR method, no outliers were detected for Heating_Load and Cooling_Load.\n",
        "\n",
        "Dataset Size:\n",
        "*  Original dataset: 768 rows.\n",
        "*  After removing outliers: 768 rows (no rows were removed since no outliers were found).\n",
        "\n",
        "Statistical Summary:\n",
        "\n",
        "The original, cleaned (no outliers), and capped datasets have the same statistics, indicating that all data points are within the acceptable range based on the IQR method.\n",
        "\n",
        "*  Heating_Load: Mean = 22.31, Std = 10.09, Min = 6.01, Max = 43.10\n",
        "*  Cooling_Load: Mean = 24.59, Std = 9.51, Min = 10.90, Max = 48.03"
      ],
      "metadata": {
        "id": "OzgFiazIAmgd"
      }
    },
    {
      "cell_type": "markdown",
      "source": [
        "Since he data does not have extreme outliers based on the IQR method above, I can now safely proceed with the rest of the analysis without needing to remove or transform any values."
      ],
      "metadata": {
        "id": "t0sQ-oaJCXb7"
      }
    },
    {
      "cell_type": "markdown",
      "source": [
        "Overall the dataset looks clean and ready for further analysis, and visualization."
      ],
      "metadata": {
        "id": "bcUyZDtlP-pH"
      }
    },
    {
      "cell_type": "markdown",
      "source": [
        "## **Statistics Overview**"
      ],
      "metadata": {
        "id": "rSQo59sxChyh"
      }
    },
    {
      "cell_type": "code",
      "source": [
        "# Basic Statistics\n",
        "print(\"\\nSummary statistics for Heating and Cooling Loads:\")\n",
        "print(data[['Heating_Load', 'Cooling_Load']].describe())"
      ],
      "metadata": {
        "id": "pVXcVjQECEYZ"
      },
      "execution_count": null,
      "outputs": []
    },
    {
      "cell_type": "markdown",
      "source": [
        "**Overview of the Summary Statistics Above**\n",
        "\n",
        "The describe() function outputs statistics for Heating_Load and Cooling_Load:\n",
        "\n",
        "*   Mean (average): Gives an idea of typical energy loads.\n",
        "*   Min/Max: Shows the range of energy demands.\n",
        "*   Standard Deviation: Indicates variability in energy consumption.\n",
        "\n",
        "For example:\n",
        "\n",
        "If the heating load has a high standard deviation, it implies some buildings consume much more energy for heating than others."
      ],
      "metadata": {
        "id": "M30utw0pCbYt"
      }
    },
    {
      "cell_type": "markdown",
      "source": [
        "**Analyzing the Summary Statistics**\n",
        "\n",
        "Statistics for Heating_Load and Cooling_Load:\n",
        "\n",
        "*   Count: 768 data points (full dataset).\n",
        "*   Mean (Average):\n",
        " *     Heating Load: ~22.31\n",
        " *     Cooling Load: ~24.59\n",
        "*   Standard Deviation:\n",
        " *   Heating Load: ~10.09 (high variability).\n",
        " *   Cooling Load: ~9.51 (high variability).\n",
        "*   Minimum and Maximum Values:\n",
        " *   Heating Load: 6.01 to 43.10\n",
        " *   Cooling Load: 10.90 to 48.03\n",
        "\n",
        "These values indicate significant variation in energy demands."
      ],
      "metadata": {
        "id": "48ebSrnIFlqM"
      }
    },
    {
      "cell_type": "markdown",
      "source": [
        "## **Analysis 1 ~ Correlation**"
      ],
      "metadata": {
        "id": "aU6iPp5PQ-mp"
      }
    },
    {
      "cell_type": "code",
      "source": [
        "# Simple Analysis - Correlation\n",
        "correlation = data.corr()\n",
        "print(\"\\nCorrelation between features:\")\n",
        "print(correlation[['Heating_Load', 'Cooling_Load']])"
      ],
      "metadata": {
        "id": "hWrhOyq0CHR0"
      },
      "execution_count": null,
      "outputs": []
    },
    {
      "cell_type": "markdown",
      "source": [
        "**Overview of the Correlation Above**\n",
        "\n",
        "The corr() function highlights relationships between features:\n",
        "\n",
        "*  Positive values (closer to 1): Strong direct correlation (e.g., larger wall area might lead to higher heating load)\n",
        "\n",
        "*  Negative values (closer to -1): Strong inverse relationship (e.g., better insulation might reduce cooling load)\n",
        "\n",
        "Key correlations to notice:\n",
        "\n",
        "*  Wall_Area vs. Heating_Load or Cooling_Load\n",
        "\n",
        "*  Roof_Area or Relative_Compactness correlations with energy loads"
      ],
      "metadata": {
        "id": "GUWU2bQSC-mC"
      }
    },
    {
      "cell_type": "markdown",
      "source": [
        "**More analysis of the correllations**\n",
        "\n",
        "The correlation matrix highlights relationships:\n",
        "\n",
        "*  Heating_Load and Cooling_Load are highly correlated (0.975).\n",
        "\n",
        "Positive correlations:\n",
        "*  Overall_Height: Strong positive relationship with both heating (0.89) and cooling (0.90) loads.\n",
        "*  Wall_Area: Moderate positive correlation (heating: 0.45, cooling: 0.43).\n",
        "\n",
        "Negative correlations:\n",
        "*  Roof_Area: Strong negative correlation (heating: -0.86, cooling: -0.86).\n",
        "*  Surface_Area: Moderate negative correlation with energy loads.\n",
        "\n",
        "Implications:\n",
        "\n",
        "Larger Overall_Height leads to higher energy loads.\n",
        "Increasing Roof_Area reduces energy demand, suggesting efficient designs."
      ],
      "metadata": {
        "id": "czneWjWyGhoc"
      }
    },
    {
      "cell_type": "markdown",
      "source": [
        "## **Visualization ~ Scatter Plot**"
      ],
      "metadata": {
        "id": "oy04qYeyREKi"
      }
    },
    {
      "cell_type": "code",
      "source": [
        "# Visualize Relationships\n",
        "plt.figure(figsize=(10, 6))\n",
        "plt.scatter(data['Wall_Area'], data['Heating_Load'], alpha=0.7, label=\"Heating Load\")\n",
        "plt.scatter(data['Wall_Area'], data['Cooling_Load'], alpha=0.7, label=\"Cooling Load\")\n",
        "plt.title(\"Wall Area vs Energy Loads\")\n",
        "plt.xlabel(\"Wall Area\")\n",
        "plt.ylabel(\"Energy Load (Heating and Cooling)\")\n",
        "plt.legend()\n",
        "plt.show()"
      ],
      "metadata": {
        "id": "Elf3-eFzCKRM"
      },
      "execution_count": null,
      "outputs": []
    },
    {
      "cell_type": "markdown",
      "source": [
        "**About the Scatter Plot Above**\n",
        "\n",
        "This scatter plot visualizes relationships between Wall_Area and Heating_Load or Cooling_Load:\n",
        "\n",
        "Points distributed diagonally (increasing or decreasing) indicate a clear relationship.\n",
        "\n",
        "Randomly scattered points suggest little to no relationship.\n",
        "For example: A trend showing higher wall area results in higher heating load suggests wall area significantly affects heating energy demand."
      ],
      "metadata": {
        "id": "a158zhDXDu6k"
      }
    },
    {
      "cell_type": "markdown",
      "source": [
        "**Analysis of the Scatter Plot: Wall Area vs Energy Loads**\n",
        "\n",
        "The scatter plot visualizes the relationship between Wall_Area and Heating_Load/Cooling_Load:\n",
        "\n",
        "*  Heating_Load and Cooling_Load increase with larger Wall_Area, but the relationship is not perfectly linear.\n",
        "*  This suggests that while wall area contributes to energy demand, other factors (e.g., insulation, glazing) also play significant roles."
      ],
      "metadata": {
        "id": "2NBGtqSVHMT7"
      }
    },
    {
      "cell_type": "markdown",
      "source": [
        "## **Analysis 2 ~ Energy Efficiency Ratio**\n",
        "\n",
        "I am also interested to calculate the Energy Efficiency Ratio (EER) which is commonly used in energy and building science to evaluate how efficiently a building uses energy relative to its size (surface area). This feature:\n",
        "\n",
        "*  **Normalizes Energy Use**: Accounts for differences in building size.\n",
        "\n",
        "*  **Identifies Inefficiencies**: Highlights buildings that consume more energy than expected per unit area.\n",
        "\n",
        "*  **Widely Applicable**: Similar metrics are often used in research and industry to compare building energy performance.\n"
      ],
      "metadata": {
        "id": "0kDwVIL-Fv9L"
      }
    },
    {
      "cell_type": "markdown",
      "source": [
        "I first need to calculate the Energy Efficiency Ratio (EER).\n",
        "\n",
        "The formula is:\n",
        "\n",
        "**Efficiency Ratio: (Heating Load + Cooling Load)/ Surface Area**\n",
        "\n",
        "This ratio will tell how much energy is used per unit of surface area.\n"
      ],
      "metadata": {
        "id": "RiZXY0ATGaPC"
      }
    },
    {
      "cell_type": "code",
      "source": [
        "# Create the Energy Efficiency Ratio\n",
        "data['Energy_Efficiency_Ratio'] = (data['Heating_Load'] + data['Cooling_Load']) / data['Surface_Area']\n",
        "\n",
        "# Summarize the new feature\n",
        "print(data['Energy_Efficiency_Ratio'].describe())\n"
      ],
      "metadata": {
        "id": "px8xQKSwG1qM"
      },
      "execution_count": null,
      "outputs": []
    },
    {
      "cell_type": "markdown",
      "source": [
        "**Summary of the Energy Efficiency Ratio (EER):**\n",
        "\n",
        "*   **Count**: 768 buildings in the dataset.\n",
        "*   **Mean**: The average EER is 0.0737, this means that most buildings use about 0.0737 units of energy (heating + cooling) per unit of surface area.\n",
        "*   **Standard Deviation**: The EER varies by 0.0365, showing moderate variability across buildings.\n",
        "*   **Minimum**: The most efficient building has an EER of 0.0247.\n",
        "*   **Maximum**: The least efficient building has an EER of 0.1412.\n",
        "*   **Median (50% quantile)**: 0.0580, indicating that half the buildings have an EER below this value."
      ],
      "metadata": {
        "id": "tQzrLSwQHu8X"
      }
    },
    {
      "cell_type": "markdown",
      "source": [
        "Key Insights from the above are:\n",
        "\n",
        "*  Buildings with an EER closer to the **mean (0.0737)** are typical.\n",
        "*  Higher EERs (**>0.11**) might indicate inefficient buildings that consume a lot of energy relative to their surface area.\n",
        "*  Lower EERs (<**0.04**) might represent highly energy-efficient buildings."
      ],
      "metadata": {
        "id": "UPghbIX8IAdF"
      }
    },
    {
      "cell_type": "markdown",
      "source": [
        "## **Visualization ~ Histogram**\n",
        "\n",
        "I'd like to understand how EER values are spread. For example, are most buildigns efficient or inefficient. I create a histogram chart for this purpose to show the distribution of EER values to identify common ranges."
      ],
      "metadata": {
        "id": "43FmLWPYJmRB"
      }
    },
    {
      "cell_type": "code",
      "source": [
        "# Histogram of Energy Efficiency Ratio\n",
        "plt.figure(figsize=(8, 6))\n",
        "plt.hist(data['Energy_Efficiency_Ratio'], bins=20, color='skyblue', alpha=0.7, edgecolor='black')\n",
        "plt.title('Histogram of Energy Efficiency Ratio')\n",
        "plt.xlabel('Energy Efficiency Ratio')\n",
        "plt.ylabel('Frequency')\n",
        "plt.tight_layout()\n",
        "\n",
        "plt.show()\n",
        "\n"
      ],
      "metadata": {
        "id": "T8GAtPBVGXPy"
      },
      "execution_count": null,
      "outputs": []
    },
    {
      "cell_type": "markdown",
      "source": [
        "How to Read the Histogram\n",
        "*   The x-axis (Energy Efficiency Ratio):\n",
        "Divides the EER into ranges (bins), such as 0.02–0.04, 0.04–0.06, etc.\n",
        "*  The y-axis (Frequency):\n",
        "Shows how many buildings have EER values in each range.\n",
        "\n",
        "**Example:**\n",
        "The tallest bar might be for the range 0.04–0.06, with a height of 300.\n",
        "This means 300 buildings in the dataset have EER values between 0.04 and 0.06.\n",
        "\n",
        "The frequency on the y-axis simply shows how many buildings fall into each bin (range) of the Energy Efficiency Ratio (EER) on the x-axis.\n",
        "\n",
        "For example:\n",
        "\n",
        "If the bar above the range 0.02–0.04 has a height of 200, it means 200 buildings in the dataset have an EER value between 0.02 and 0.04.\n",
        "\n",
        "**Insights from the Histogram:**\n",
        "\n",
        "Most buildings have an EER in the range of 0.02 to 0.10.\n",
        "A smaller number of buildings have higher EER values, indicating lower efficiency.\n",
        "\n",
        "The histogram shows how the values of the Energy Efficiency Ratio (EER) are distributed across the dataset. Here's what it tells us:\n",
        "\n",
        "*   **1. Most Common EER Range:**\n",
        "The majority of buildings have an EER between 0.02 and 0.10.\n",
        "This suggests that most buildings in the dataset are relatively energy-efficient, as their energy use per unit of surface area is low.\n",
        "*   **2. Outliers at the Higher End:**\n",
        "A small number of buildings have an EER closer to 0.12–0.14 (the right tail of the histogram).\n",
        "These are the least efficient buildings in the dataset, as they consume much more energy per unit of surface area. This could indicate poor insulation, excessive glazing, or other design inefficiencies.\n",
        "*   **3. Skewness in Distribution**\n",
        "The histogram is positively skewed (long tail to the right).\n",
        "Most buildings cluster around lower EER values (higher efficiency), but a few outliers push the range higher.\n",
        "\n",
        "\n",
        "**Key Takeaway for This Histogram**\n",
        "\n",
        "The histogram shows that most buildings have EER values between 0.02 and 0.08 because the bars in this range are the tallest.\n",
        "\n",
        "Fewer buildings have EER values beyond 0.12, which is why the bars on the right are much shorter.\n",
        "\n",
        "***\n",
        "\n",
        "*Note: In real-world energy analysis, lower EER values typically correspond to better energy efficiency:*\n",
        "\n",
        "*   Higher EER: Indicates higher energy consumption per unit area.\n",
        "*   Lower EER: Indicates more efficient use of energy resources.\n",
        "\n"
      ],
      "metadata": {
        "id": "kUrAd_bZwEu5"
      }
    },
    {
      "cell_type": "markdown",
      "source": [
        "## Visualization ~ Heatmap\n",
        "\n",
        "\n",
        "\n"
      ],
      "metadata": {
        "id": "7LCPWhpsyf9T"
      }
    },
    {
      "cell_type": "code",
      "source": [
        "# Calculate correlation matrix\n",
        "correlation_matrix = data.corr()\n",
        "\n",
        "# Create a heatmap for the correlation matrix\n",
        "plt.figure(figsize=(10, 8))\n",
        "sns.heatmap(correlation_matrix, annot=True, cmap=\"coolwarm\", fmt=\".2f\", linewidths=0.5)\n",
        "plt.title(\"Correlation Heatmap\")\n",
        "plt.tight_layout()\n",
        "\n",
        "plt.show()\n",
        "\n",
        "\n"
      ],
      "metadata": {
        "id": "WHXbc-ulMYc0"
      },
      "execution_count": null,
      "outputs": []
    },
    {
      "cell_type": "markdown",
      "source": [
        "*Color Code:*\n",
        "\n",
        "*1. Dark Red = positive correlation*\n",
        "\n",
        "*2. Dark Blue = negative correlation*\n",
        "\n",
        "*3. White/Light Blue = weak / no correlatoin*"
      ],
      "metadata": {
        "id": "pvxxGBexNiND"
      }
    },
    {
      "cell_type": "markdown",
      "source": [
        "**Key Observations:**\n",
        "\n",
        "*  Energy Efficiency Ratio (EER):\n",
        " *  Strongly correlates with Heating_Load and Cooling_Load (as expected, since it's derived from them).\n",
        " *  Weak correlation with features like Orientation and Glazing_Distribution.\n",
        "\n",
        "*  Other Strong Correlations:\n",
        " *  Overall_Height is strongly correlated with Heating_Load and Cooling_Load (~0.89), suggesting taller buildings consume more energy.\n",
        " *  Roof_Area has a strong negative correlation with energy loads (~-0.86), indicating that larger roof areas may improve efficiency.\n",
        "\n",
        "*  Weak Correlations:\n",
        " *  Features like Orientation and Glazing_Distribution show almost no correlation with energy loads or the EER."
      ],
      "metadata": {
        "id": "ad-1eBcbMpF8"
      }
    },
    {
      "cell_type": "markdown",
      "source": [
        "## **Summary**\n",
        "\n",
        "I started this analysis with 3 questions and my analysis helped answer those questions.\n",
        "\n",
        "1. Which building features have the biggest impact on heating and cooling energy demand?\n",
        "\n",
        " *  Correlation heatmap: Shows the relationship of features like Wall_Area (+0.45), Roof_Area (-0.86), and Overall_Height (+0.89) with heating and cooling loads.\n",
        " *  Scatter plot: Wall_Area vs. Heating_Load and Cooling_Load demonstrates how wall size contributes to energy demands.\n",
        "\n",
        "2. How does building compactness (Relative_Compactness) affect energy efficiency?\n",
        "\n",
        " *  Correlation matrix: Relative_Compactness has a strong positive correlation with Heating_Load (+0.62) and Cooling_Load (+0.63), showing that compactness significantly impacts energy consumption.\n",
        " *  Scatter plots can be added to directly visualize this relationship.\n",
        "\n",
        "3. How can the Energy Efficiency Ratio (EER) help compare and rank buildings?\n",
        "\n",
        " *  EER calculation: The histogram of EER shows the distribution of energy efficiency across buildings.\n",
        " *  Summary statistics: Provides insights into the most and least efficient buildings based on their EER values.\n"
      ],
      "metadata": {
        "id": "fx9jbFCcQiJD"
      }
    }
  ]
}